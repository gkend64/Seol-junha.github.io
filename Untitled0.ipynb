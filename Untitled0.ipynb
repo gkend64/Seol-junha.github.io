{
  "nbformat": 4,
  "nbformat_minor": 0,
  "metadata": {
    "colab": {
      "name": "Untitled0.ipynb",
      "provenance": [],
      "authorship_tag": "ABX9TyNcutpUAv4Hajn1fj16bxmt",
      "include_colab_link": true
    },
    "kernelspec": {
      "name": "python3",
      "display_name": "Python 3"
    }
  },
  "cells": [
    {
      "cell_type": "markdown",
      "metadata": {
        "id": "view-in-github",
        "colab_type": "text"
      },
      "source": [
        "<a href=\"https://colab.research.google.com/github/gkend64/Seol-junha.github.io/blob/master/Untitled0.ipynb\" target=\"_parent\"><img src=\"https://colab.research.google.com/assets/colab-badge.svg\" alt=\"Open In Colab\"/></a>"
      ]
    },
    {
      "cell_type": "markdown",
      "metadata": {
        "id": "mpAO0y4tS3Fu",
        "colab_type": "text"
      },
      "source": [
        ""
      ]
    },
    {
      "cell_type": "markdown",
      "metadata": {
        "id": "S8FoxmLVUGg4",
        "colab_type": "text"
      },
      "source": [
        "###인공지능과 서비스###\n",
        "\n",
        "\n",
        "* 언어  \n",
        " * 한국어 - 영어 AI번역시스템\n",
        "* 음성 \n",
        " * APPLE사의 SIRI, SK텔레콤 인공지능 스피커 아리  \n",
        "* 이미지 \n",
        " * 사물 이미지 : 사물인식 및 이미지 분류 \n",
        " * 글자체 이미지 : 자동 한글인식 AI서비스\n",
        " * 질병진단 이미지 : AI 보조 질병 자동검진 서비스\n",
        " * 안면 이미지 : 한국인 얼굴 인식 AI시스템, 범죄자탐지기\n",
        " * 융합영상 : 인간의 감정, 상황 이해 로봇\n",
        "* 자율주행\n",
        " * 메르세데스 벤츠, 폭스바겐, 아우디 등 유명 자동차 회사의 자율주행 기능 도입\n",
        " * [자율주행 시연영상] https://www.youtube.com/watch?v=LskKnoWI5Ro\n",
        "\n"
      ]
    }
  ]
}